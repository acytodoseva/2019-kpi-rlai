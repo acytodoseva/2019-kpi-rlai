{
 "cells": [
  {
   "cell_type": "markdown",
   "metadata": {
    "toc": true
   },
   "source": [
    "<h1>Table of Contents<span class=\"tocSkip\"></span></h1>\n",
    "<div class=\"toc\"><ul class=\"toc-item\"><li><span><a href=\"#Prerequisites\" data-toc-modified-id=\"Prerequisites-1\"><span class=\"toc-item-num\">1&nbsp;&nbsp;</span>Prerequisites</a></span></li><li><span><a href=\"#Getting-Data\" data-toc-modified-id=\"Getting-Data-2\"><span class=\"toc-item-num\">2&nbsp;&nbsp;</span>Getting Data</a></span></li><li><span><a href=\"#Preprocessing\" data-toc-modified-id=\"Preprocessing-3\"><span class=\"toc-item-num\">3&nbsp;&nbsp;</span>Preprocessing</a></span></li><li><span><a href=\"#Modeling\" data-toc-modified-id=\"Modeling-4\"><span class=\"toc-item-num\">4&nbsp;&nbsp;</span>Modeling</a></span><ul class=\"toc-item\"><li><span><a href=\"#Create-Model\" data-toc-modified-id=\"Create-Model-4.1\"><span class=\"toc-item-num\">4.1&nbsp;&nbsp;</span>Create Model</a></span></li><li><span><a href=\"#Fit-to-Data\" data-toc-modified-id=\"Fit-to-Data-4.2\"><span class=\"toc-item-num\">4.2&nbsp;&nbsp;</span>Fit to Data</a></span></li><li><span><a href=\"#Training-Statistics\" data-toc-modified-id=\"Training-Statistics-4.3\"><span class=\"toc-item-num\">4.3&nbsp;&nbsp;</span>Training Statistics</a></span></li></ul></li><li><span><a href=\"#Evaluation\" data-toc-modified-id=\"Evaluation-5\"><span class=\"toc-item-num\">5&nbsp;&nbsp;</span>Evaluation</a></span><ul class=\"toc-item\"><li><span><a href=\"#Test-Set-Evaluation\" data-toc-modified-id=\"Test-Set-Evaluation-5.1\"><span class=\"toc-item-num\">5.1&nbsp;&nbsp;</span>Test Set Evaluation</a></span></li><li><span><a href=\"#Saving-Model\" data-toc-modified-id=\"Saving-Model-5.2\"><span class=\"toc-item-num\">5.2&nbsp;&nbsp;</span>Saving Model</a></span></li></ul></li><li><span><a href=\"#Conclusion\" data-toc-modified-id=\"Conclusion-6\"><span class=\"toc-item-num\">6&nbsp;&nbsp;</span>Conclusion</a></span></li></ul></div>"
   ]
  },
  {
   "cell_type": "markdown",
   "metadata": {},
   "source": [
    "# Neural Networks"
   ]
  },
  {
   "cell_type": "markdown",
   "metadata": {},
   "source": [
    "## Prerequisites"
   ]
  },
  {
   "cell_type": "code",
   "execution_count": null,
   "metadata": {},
   "outputs": [],
   "source": [
    "import keras\n",
    "import matplotlib.pyplot as plt\n",
    "from keras.datasets import mnist\n",
    "from keras.models import Sequential\n",
    "from keras.layers import Dense, Flatten\n",
    "from keras.utils.np_utils import to_categorical\n",
    "from keras import metrics\n",
    "\n",
    "import warnings\n",
    "warnings.filterwarnings(\"ignore\")\n",
    "import tensorflow as tf\n",
    "tf.logging.set_verbosity(tf.logging.ERROR)\n",
    "\n",
    "%matplotlib inline"
   ]
  },
  {
   "cell_type": "markdown",
   "metadata": {},
   "source": [
    "## Getting Data\n",
    "In this notebook we will work with classical [MNIST](http://yann.lecun.com/exdb/mnist/) dataset, which consists of 60,000 28x28 grayscale images of the 10 handwritten digits. The task is to classify image to any of ten classes."
   ]
  },
  {
   "cell_type": "code",
   "execution_count": 2,
   "metadata": {},
   "outputs": [
    {
     "name": "stdout",
     "output_type": "stream",
     "text": [
      "Train data : (60000, 28, 28)\n",
      "Test data : (10000, 28, 28)\n"
     ]
    }
   ],
   "source": [
    "# Download mnist dataset\n",
    "(X_train, y_train), (X_test, y_test)  = mnist.load_data()\n",
    "print(\"Train data : {}\".format(X_train.shape))\n",
    "print(\"Test data : {}\".format(X_test.shape))"
   ]
  },
  {
   "cell_type": "markdown",
   "metadata": {},
   "source": [
    "- 60000 - number of training examples\n",
    "- 10000 - number of test examples\n",
    "- (28,28) - image size"
   ]
  },
  {
   "cell_type": "code",
   "execution_count": 3,
   "metadata": {},
   "outputs": [
    {
     "data": {
      "image/png": "[encoded data removed]",
      "text/plain": [
       "<Figure size 432x288 with 1 Axes>"
      ]
     },
     "metadata": {
      "needs_background": "light"
     },
     "output_type": "display_data"
    }
   ],
   "source": [
    "# Visualize\n",
    "plt.imshow(X_train[10])\n",
    "plt.title(y_train[10]);"
   ]
  },
  {
   "cell_type": "markdown",
   "metadata": {},
   "source": [
    "## Preprocessing"
   ]
  },
  {
   "cell_type": "markdown",
   "metadata": {},
   "source": [
    "We are working with image data and each pixel is coded by R, G, B color intensity as an integer value between 0 and 255. Thus, simple division by 255 will give us normalazied values."
   ]
  },
  {
   "cell_type": "code",
   "execution_count": 4,
   "metadata": {},
   "outputs": [],
   "source": [
    "# Normalize Data\n",
    "X_train = X_train/255.\n",
    "X_test = X_test/255."
   ]
  },
  {
   "cell_type": "code",
   "execution_count": 5,
   "metadata": {},
   "outputs": [],
   "source": [
    "# Data Reshape - append number of channels\n",
    "n_train, h, w = X_train.shape\n",
    "n_test = X_test.shape[0]\n",
    "\n",
    "X_train = X_train.reshape(n_train, h * w)\n",
    "X_test = X_test.reshape(n_test, h * w)"
   ]
  },
  {
   "cell_type": "code",
   "execution_count": 6,
   "metadata": {},
   "outputs": [],
   "source": [
    "# One hot encoding for label\n",
    "y_train = to_categorical(y_train, num_classes=10)\n",
    "y_test = to_categorical(y_test, num_classes=10)"
   ]
  },
  {
   "cell_type": "markdown",
   "metadata": {},
   "source": [
    "## Modeling"
   ]
  },
  {
   "cell_type": "markdown",
   "metadata": {},
   "source": [
    "Now we'll create a simple model with single layer and softmax activation. "
   ]
  },
  {
   "cell_type": "markdown",
   "metadata": {},
   "source": [
    "### Create Model\n",
    "\n",
    "Here we'll use create model with Keras' [Sequential class](https://keras.io/getting-started/sequential-model-guide/). It is an easiest way to build a model, presented as a linear stack of layers."
   ]
  },
  {
   "cell_type": "code",
   "execution_count": 7,
   "metadata": {},
   "outputs": [],
   "source": [
    "def create_model():\n",
    "    model = Sequential()\n",
    "    model.add(Dense(10, input_shape= (784,),  activation=\"softmax\"))\n",
    "    return model"
   ]
  },
  {
   "cell_type": "code",
   "execution_count": 8,
   "metadata": {},
   "outputs": [
    {
     "name": "stdout",
     "output_type": "stream",
     "text": [
      "_________________________________________________________________\n",
      "Layer (type)                 Output Shape              Param #   \n",
      "=================================================================\n",
      "dense_1 (Dense)              (None, 10)                7850      \n",
      "=================================================================\n",
      "Total params: 7,850\n",
      "Trainable params: 7,850\n",
      "Non-trainable params: 0\n",
      "_________________________________________________________________\n"
     ]
    }
   ],
   "source": [
    "# Create model and look at the architecture\n",
    "model = create_model()\n",
    "model.summary()"
   ]
  },
  {
   "cell_type": "code",
   "execution_count": 9,
   "metadata": {},
   "outputs": [],
   "source": [
    "# Training parameters\n",
    "batch_size = 128\n",
    "epochs = 10\n",
    "\n",
    "model.compile(loss=\"categorical_crossentropy\", optimizer=\"adam\", metrics=[metrics.categorical_accuracy])"
   ]
  },
  {
   "cell_type": "markdown",
   "metadata": {},
   "source": [
    "### Fit to Data"
   ]
  },
  {
   "cell_type": "code",
   "execution_count": 10,
   "metadata": {},
   "outputs": [
    {
     "name": "stdout",
     "output_type": "stream",
     "text": [
      "Epoch 1/10\n",
      "60000/60000 [==============================] - 3s 47us/step - loss: 0.6868 - categorical_accuracy: 0.8294\n",
      "Epoch 2/10\n",
      "60000/60000 [==============================] - 3s 55us/step - loss: 0.3623 - categorical_accuracy: 0.9022\n",
      "Epoch 3/10\n",
      "60000/60000 [==============================] - 3s 44us/step - loss: 0.3195 - categorical_accuracy: 0.9120\n",
      "Epoch 4/10\n",
      "60000/60000 [==============================] - 3s 45us/step - loss: 0.2997 - categorical_accuracy: 0.9167\n",
      "Epoch 5/10\n",
      "60000/60000 [==============================] - 3s 53us/step - loss: 0.2880 - categorical_accuracy: 0.9203\n",
      "Epoch 6/10\n",
      "60000/60000 [==============================] - 3s 49us/step - loss: 0.2801 - categorical_accuracy: 0.9217\n",
      "Epoch 7/10\n",
      "60000/60000 [==============================] - 3s 49us/step - loss: 0.2739 - categorical_accuracy: 0.9238\n",
      "Epoch 8/10\n",
      "60000/60000 [==============================] - 3s 56us/step - loss: 0.2694 - categorical_accuracy: 0.9248\n",
      "Epoch 9/10\n",
      "60000/60000 [==============================] - 2s 35us/step - loss: 0.2653 - categorical_accuracy: 0.9262\n",
      "Epoch 10/10\n",
      "60000/60000 [==============================] - 2s 33us/step - loss: 0.2623 - categorical_accuracy: 0.9274\n"
     ]
    }
   ],
   "source": [
    "# Fit \n",
    "history = model.fit(X_train, y_train, batch_size=batch_size, epochs=epochs);"
   ]
  },
  {
   "cell_type": "markdown",
   "metadata": {},
   "source": [
    "### Training Statistics"
   ]
  },
  {
   "cell_type": "code",
   "execution_count": 11,
   "metadata": {},
   "outputs": [
    {
     "data": {
      "text/plain": [
       "{'batch_size': 128,\n",
       " 'epochs': 10,\n",
       " 'steps': None,\n",
       " 'samples': 60000,\n",
       " 'verbose': 1,\n",
       " 'do_validation': False,\n",
       " 'metrics': ['loss', 'categorical_accuracy']}"
      ]
     },
     "execution_count": 11,
     "metadata": {},
     "output_type": "execute_result"
    }
   ],
   "source": [
    "history.params"
   ]
  },
  {
   "cell_type": "code",
   "execution_count": 12,
   "metadata": {},
   "outputs": [],
   "source": [
    "loss_history = history.history[\"loss\"]\n",
    "acc_history = history.history[\"categorical_accuracy\"]"
   ]
  },
  {
   "cell_type": "code",
   "execution_count": 13,
   "metadata": {},
   "outputs": [
    {
     "data": {
      "image/png": "[encoded data removed]",
      "text/plain": [
       "<Figure size 432x288 with 1 Axes>"
      ]
     },
     "metadata": {
      "needs_background": "light"
     },
     "output_type": "display_data"
    }
   ],
   "source": [
    "# Loss visualization\n",
    "plt.plot(range(1, epochs + 1), loss_history);"
   ]
  },
  {
   "cell_type": "code",
   "execution_count": 14,
   "metadata": {},
   "outputs": [
    {
     "data": {
      "image/png": "[encoded data removed]",
      "text/plain": [
       "<Figure size 432x288 with 1 Axes>"
      ]
     },
     "metadata": {
      "needs_background": "light"
     },
     "output_type": "display_data"
    }
   ],
   "source": [
    "# Accuracy visualization\n",
    "plt.plot(range(1, epochs + 1), acc_history);"
   ]
  },
  {
   "cell_type": "markdown",
   "metadata": {},
   "source": [
    "## Evaluation"
   ]
  },
  {
   "cell_type": "markdown",
   "metadata": {},
   "source": [
    "### Test Set Evaluation"
   ]
  },
  {
   "cell_type": "code",
   "execution_count": 15,
   "metadata": {},
   "outputs": [
    {
     "name": "stdout",
     "output_type": "stream",
     "text": [
      "10000/10000 [==============================] - 0s 48us/step\n",
      "Test loss: 0.26582396190166474\n",
      "Test accuracy: 0.9254\n"
     ]
    }
   ],
   "source": [
    "# Let's evaluate on test data\n",
    "test_loss, test_accuracy = model.evaluate(X_test, y_test)\n",
    "print(\"Test loss: {}\".format(test_loss))\n",
    "print(\"Test accuracy: {}\".format(test_accuracy))"
   ]
  },
  {
   "cell_type": "markdown",
   "metadata": {},
   "source": [
    "### Saving Model"
   ]
  },
  {
   "cell_type": "code",
   "execution_count": 16,
   "metadata": {},
   "outputs": [],
   "source": [
    "# Save  model\n",
    "model.save_weights(\"weights.json\")\n",
    "model.save(\"model.hd5\")"
   ]
  },
  {
   "cell_type": "code",
   "execution_count": 18,
   "metadata": {},
   "outputs": [
    {
     "name": "stdout",
     "output_type": "stream",
     "text": [
      "model.hd5  NN.ipynb  README.md\tweights.json\r\n"
     ]
    }
   ],
   "source": [
    "! ls"
   ]
  },
  {
   "cell_type": "markdown",
   "metadata": {},
   "source": [
    "You can see the file with weights and file with model architecture"
   ]
  },
  {
   "cell_type": "markdown",
   "metadata": {},
   "source": [
    "## Conclusion\n",
    "\n",
    "This notebooks gives a sense of building a simple and shallow neural network using Keras framework. In fact, such simple networks are rarely used in practice and popular deep neural networks are much bigger and train longer.\n"
   ]
  },
  {
   "cell_type": "code",
   "execution_count": null,
   "metadata": {},
   "outputs": [],
   "source": []
  }
 ],
 "metadata": {
  "kernelspec": {
   "display_name": "Python 3",
   "language": "python",
   "name": "python3"
  },
  "language_info": {
   "codemirror_mode": {
    "name": "ipython",
    "version": 3
   },
   "file_extension": ".py",
   "mimetype": "text/x-python",
   "name": "python",
   "nbconvert_exporter": "python",
   "pygments_lexer": "ipython3",
   "version": "3.6.6"
  },
  "toc": {
   "base_numbering": 1,
   "nav_menu": {},
   "number_sections": true,
   "sideBar": true,
   "skip_h1_title": true,
   "title_cell": "Table of Contents",
   "title_sidebar": "Contents",
   "toc_cell": true,
   "toc_position": {},
   "toc_section_display": true,
   "toc_window_display": true
  }
 },
 "nbformat": 4,
 "nbformat_minor": 2
}
