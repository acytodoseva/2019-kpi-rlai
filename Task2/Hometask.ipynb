{
 "cells": [
  {
   "cell_type": "markdown",
   "metadata": {},
   "source": [
    "### Hometask Description"
   ]
  },
  {
   "cell_type": "markdown",
   "metadata": {},
   "source": [
    "In this notebook, just below this cell, please do:\n",
    "1. Load MNIST dataset: example you'll find at NN notebook\n",
    "2. Implement Multi-Layer Perceptron classifier\n",
    "   a. First, use [sklearn MLP](https://scikit-learn.org/stable/modules/neural_networks_supervised.html)\n",
    "   b. Second, implement MLP using Keras framework\n",
    "3. Tune hyperparameters for both implementations, for example:     \n",
    "       a. Number of layers\n",
    "       b. Size of layers\n",
    "       c. Batch size\n",
    "       d. Learning rate\n",
    "       e. Change optimizer\n",
    "       f. Experiment with different activation functions\n",
    "   Hint: later in conclusion you might want to write which hyperparameters positively influenced the target function. \n",
    "   \n",
    "4. Write conclusion, make visualizations: \n",
    "       a. Tensorboard visualization(loss, accuracy)https://www.tensorflow.org/guide/summaries_and_tensorboard\n",
    "       b. Callback for special digit (https://keras.io/callbacks/)\n",
    "       \n",
    "5. Try MLP, implemented on Keras, for CIFAR10 dataset, which you can [download from Keras](https://keras.io/datasets/) as well.\n",
    "\n",
    "6. [optional] Try to use https://colab.research.google.com/ for your home tasks."
   ]
  },
  {
   "cell_type": "code",
   "execution_count": null,
   "metadata": {},
   "outputs": [],
   "source": []
  }
 ],
 "metadata": {
  "kernelspec": {
   "display_name": "Python 3",
   "language": "python",
   "name": "python3"
  },
  "language_info": {
   "codemirror_mode": {
    "name": "ipython",
    "version": 3
   },
   "file_extension": ".py",
   "mimetype": "text/x-python",
   "name": "python",
   "nbconvert_exporter": "python",
   "pygments_lexer": "ipython3",
   "version": "3.5.2"
  },
  "toc": {
   "base_numbering": 1,
   "nav_menu": {},
   "number_sections": false,
   "sideBar": true,
   "skip_h1_title": false,
   "title_cell": "Table of Contents",
   "title_sidebar": "Contents",
   "toc_cell": false,
   "toc_position": {},
   "toc_section_display": true,
   "toc_window_display": true
  }
 },
 "nbformat": 4,
 "nbformat_minor": 2
}
