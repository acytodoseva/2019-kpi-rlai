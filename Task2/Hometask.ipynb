{
 "cells": [
  {
   "cell_type": "markdown",
   "metadata": {},
   "source": [
    "### Description"
   ]
  },
  {
   "cell_type": "markdown",
   "metadata": {},
   "source": [
    "-  Load MNIST dataset \n",
    "-  MLP classifier\n",
    "   - 2.1 use sklearn MLP https://scikit-learn.org/stable/modules/neural_networks_supervised.html \n",
    "   - 2.2 Implement MLP with Keras\n",
    "     \n",
    "   For both frameworks try to tune:\n",
    "       1. Numbers of layers\n",
    "       2. Size of layers\n",
    "       3. Batch size\n",
    "       4. Learning rate\n",
    "       5. Optimizer\n",
    "       6. Activation function\n",
    "   \n",
    "- Result conclusion and visulization \n",
    "       1. Tensorboard visualization(loss, accuracy)https://www.tensorflow.org/guide/summaries_and_tensorboard\n",
    "       2. Callback for special digit (https://keras.io/callbacks/)\n",
    "       \n",
    "- Try MLP (Keras implementation) on CIFAR10 (you can download from Keras)\n",
    "\n",
    "- Try to use https://colab.research.google.com/"
   ]
  },
  {
   "cell_type": "code",
   "execution_count": null,
   "metadata": {},
   "outputs": [],
   "source": []
  }
 ],
 "metadata": {
  "kernelspec": {
   "display_name": "Python 3",
   "language": "python",
   "name": "python3"
  },
  "language_info": {
   "codemirror_mode": {
    "name": "ipython",
    "version": 3
   },
   "file_extension": ".py",
   "mimetype": "text/x-python",
   "name": "python",
   "nbconvert_exporter": "python",
   "pygments_lexer": "ipython3",
   "version": "3.5.2"
  }
 },
 "nbformat": 4,
 "nbformat_minor": 2
}
