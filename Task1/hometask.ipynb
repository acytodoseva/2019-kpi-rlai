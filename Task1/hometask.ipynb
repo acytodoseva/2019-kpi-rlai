{
 "cells": [
  {
   "cell_type": "markdown",
   "metadata": {},
   "source": [
    "### Description "
   ]
  },
  {
   "cell_type": "markdown",
   "metadata": {},
   "source": [
    "1.  Download dataset from https://archive.ics.uci.edu/ml/machine-learning-databases/spambase/\n",
    "2.  Explore dataset:\n",
    "       - Feature analysis(distributions, correlation)\n",
    "       - Target analysis(balance/imbalance)\n",
    "3.  Use algorithms from trees and linear notebooks: \n",
    "       - tune model parameters : use GridSearch, KFold\n",
    "       - try different metrics : accuracy, roc auc\n",
    "       - algorithm visualization\n",
    "       - algorithm comparing     \n",
    "4. Advanced: try [XGBoost](https://xgboost.readthedocs.io/en/latest/), [LightGBM](https://lightgbm.readthedocs.io/en/latest/) or [CatBoost](https://catboost.ai/) \n",
    "5. Conclusion\n"
   ]
  }
 ],
 "metadata": {
  "kernelspec": {
   "display_name": "Python 3",
   "language": "python",
   "name": "python3"
  },
  "language_info": {
   "codemirror_mode": {
    "name": "ipython",
    "version": 3
   },
   "file_extension": ".py",
   "mimetype": "text/x-python",
   "name": "python",
   "nbconvert_exporter": "python",
   "pygments_lexer": "ipython3",
   "version": "3.5.2"
  }
 },
 "nbformat": 4,
 "nbformat_minor": 2
}
